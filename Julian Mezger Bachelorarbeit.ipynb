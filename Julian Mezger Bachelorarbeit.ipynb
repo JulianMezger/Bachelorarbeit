{
 "cells": [
  {
   "cell_type": "markdown",
   "metadata": {},
   "source": [
    "# Bachelor Arbeit Julian Mezger \n",
    "\n",
    "## Auswertung der Umfragedaten mit Hilfe der muliplen linearen Regressions-Analyse\n",
    "\n",
    "Anbei der ausführbare Python Code für die Auswertung der Daten. "
   ]
  },
  {
   "cell_type": "markdown",
   "metadata": {},
   "source": [
    "## Import der benutzten Python Packages."
   ]
  },
  {
   "cell_type": "code",
   "execution_count": 32,
   "metadata": {},
   "outputs": [],
   "source": [
    "#Pandas für \"DataFrames\". Diese DataFrames sind wie Excel-Spreadsheets\n",
    "import pandas as pd\n",
    "\n",
    "#SciKit Learn ist eine freie Bibliothek für Machine Learning, inklusive Regression\n",
    "# https://de.wikipedia.org/wiki/Scikit-learn\n",
    "\n",
    "from sklearn import linear_model\n",
    "from sklearn.metrics import mean_squared_error, r2_score\n",
    "\n",
    "#Abschalten der Warnungen (zur Übersichtlichkeit der Ausgaben)\n",
    "import warnings\n",
    "warnings.filterwarnings('ignore')\n",
    "\n",
    "#Package  statsmodels  für die Exploration von Daten und Evaluierung statistischer Modelle\n",
    "import statsmodels.api as sm\n",
    "from scipy import stats\n",
    "\n",
    "#Packages zur graphischen Ausgabe\n",
    "import matplotlib.pyplot as plt\n",
    "import seaborn as sb\n",
    "\n",
    "!jt -dfs  8 -cellw 1100 "
   ]
  },
  {
   "cell_type": "markdown",
   "metadata": {},
   "source": [
    "## Einlesen der Auswertungsdaten aus Excel."
   ]
  },
  {
   "cell_type": "code",
   "execution_count": 33,
   "metadata": {},
   "outputs": [],
   "source": [
    "# Lesen der Umfragedaten: in das DataFrame df werden die Excel Daten geladen\n",
    "df=pd.read_excel('Umfragedaten.xlsx')"
   ]
  },
  {
   "cell_type": "markdown",
   "metadata": {},
   "source": [
    "## Ausgabe der ersten und letzten 5 Auswertungen für die Stichproben."
   ]
  },
  {
   "cell_type": "code",
   "execution_count": 34,
   "metadata": {
    "scrolled": true
   },
   "outputs": [
    {
     "data": {
      "text/html": [
       "<div>\n",
       "<style scoped>\n",
       "    .dataframe tbody tr th:only-of-type {\n",
       "        vertical-align: middle;\n",
       "    }\n",
       "\n",
       "    .dataframe tbody tr th {\n",
       "        vertical-align: top;\n",
       "    }\n",
       "\n",
       "    .dataframe thead th {\n",
       "        text-align: right;\n",
       "    }\n",
       "</style>\n",
       "<table border=\"1\" class=\"dataframe\">\n",
       "  <thead>\n",
       "    <tr style=\"text-align: right;\">\n",
       "      <th></th>\n",
       "      <th>Anstrengungserwartung</th>\n",
       "      <th>erleichterte_Bedingungen</th>\n",
       "      <th>finanzielle_Allgemeinbildung</th>\n",
       "      <th>Leistungserwartung</th>\n",
       "      <th>sozialer_Einfluss</th>\n",
       "      <th>Verwendungsabsicht</th>\n",
       "      <th>wahrgenommenes_Risiko</th>\n",
       "    </tr>\n",
       "  </thead>\n",
       "  <tbody>\n",
       "    <tr>\n",
       "      <th>0</th>\n",
       "      <td>4.50</td>\n",
       "      <td>4.75</td>\n",
       "      <td>3.5</td>\n",
       "      <td>4.666667</td>\n",
       "      <td>4.666667</td>\n",
       "      <td>5.0</td>\n",
       "      <td>3.666667</td>\n",
       "    </tr>\n",
       "    <tr>\n",
       "      <th>1</th>\n",
       "      <td>3.50</td>\n",
       "      <td>2.75</td>\n",
       "      <td>4.0</td>\n",
       "      <td>1.000000</td>\n",
       "      <td>2.000000</td>\n",
       "      <td>2.0</td>\n",
       "      <td>4.333333</td>\n",
       "    </tr>\n",
       "    <tr>\n",
       "      <th>2</th>\n",
       "      <td>2.50</td>\n",
       "      <td>3.25</td>\n",
       "      <td>5.0</td>\n",
       "      <td>3.000000</td>\n",
       "      <td>3.000000</td>\n",
       "      <td>3.0</td>\n",
       "      <td>5.000000</td>\n",
       "    </tr>\n",
       "    <tr>\n",
       "      <th>3</th>\n",
       "      <td>3.25</td>\n",
       "      <td>3.75</td>\n",
       "      <td>4.0</td>\n",
       "      <td>2.000000</td>\n",
       "      <td>1.000000</td>\n",
       "      <td>2.0</td>\n",
       "      <td>5.000000</td>\n",
       "    </tr>\n",
       "    <tr>\n",
       "      <th>4</th>\n",
       "      <td>2.75</td>\n",
       "      <td>3.00</td>\n",
       "      <td>2.0</td>\n",
       "      <td>2.666667</td>\n",
       "      <td>2.000000</td>\n",
       "      <td>2.0</td>\n",
       "      <td>4.000000</td>\n",
       "    </tr>\n",
       "  </tbody>\n",
       "</table>\n",
       "</div>"
      ],
      "text/plain": [
       "   Anstrengungserwartung  erleichterte_Bedingungen  \\\n",
       "0                   4.50                      4.75   \n",
       "1                   3.50                      2.75   \n",
       "2                   2.50                      3.25   \n",
       "3                   3.25                      3.75   \n",
       "4                   2.75                      3.00   \n",
       "\n",
       "   finanzielle_Allgemeinbildung  Leistungserwartung  sozialer_Einfluss  \\\n",
       "0                           3.5            4.666667           4.666667   \n",
       "1                           4.0            1.000000           2.000000   \n",
       "2                           5.0            3.000000           3.000000   \n",
       "3                           4.0            2.000000           1.000000   \n",
       "4                           2.0            2.666667           2.000000   \n",
       "\n",
       "   Verwendungsabsicht  wahrgenommenes_Risiko  \n",
       "0                 5.0               3.666667  \n",
       "1                 2.0               4.333333  \n",
       "2                 3.0               5.000000  \n",
       "3                 2.0               5.000000  \n",
       "4                 2.0               4.000000  "
      ]
     },
     "execution_count": 34,
     "metadata": {},
     "output_type": "execute_result"
    }
   ],
   "source": [
    "# Die Variable df ist ein DataFrame, das die Auswertungen aus dem XLSX File beinhaltet.\n",
    "df.head(5)"
   ]
  },
  {
   "cell_type": "code",
   "execution_count": 23,
   "metadata": {
    "scrolled": true
   },
   "outputs": [
    {
     "data": {
      "text/html": [
       "<div>\n",
       "<style scoped>\n",
       "    .dataframe tbody tr th:only-of-type {\n",
       "        vertical-align: middle;\n",
       "    }\n",
       "\n",
       "    .dataframe tbody tr th {\n",
       "        vertical-align: top;\n",
       "    }\n",
       "\n",
       "    .dataframe thead th {\n",
       "        text-align: right;\n",
       "    }\n",
       "</style>\n",
       "<table border=\"1\" class=\"dataframe\">\n",
       "  <thead>\n",
       "    <tr style=\"text-align: right;\">\n",
       "      <th></th>\n",
       "      <th>Anstrengungserwartung</th>\n",
       "      <th>erleichterte_Bedingungen</th>\n",
       "      <th>finanzielle_Allgemeinbildung</th>\n",
       "      <th>Leistungserwartung</th>\n",
       "      <th>sozialer_Einfluss</th>\n",
       "      <th>Verwendungsabsicht</th>\n",
       "      <th>wahrgenommenes_Risiko</th>\n",
       "    </tr>\n",
       "  </thead>\n",
       "  <tbody>\n",
       "    <tr>\n",
       "      <th>100</th>\n",
       "      <td>3.00</td>\n",
       "      <td>3.25</td>\n",
       "      <td>4.0</td>\n",
       "      <td>2.666667</td>\n",
       "      <td>2.000000</td>\n",
       "      <td>4.0</td>\n",
       "      <td>4.000000</td>\n",
       "    </tr>\n",
       "    <tr>\n",
       "      <th>101</th>\n",
       "      <td>3.00</td>\n",
       "      <td>2.50</td>\n",
       "      <td>3.0</td>\n",
       "      <td>1.666667</td>\n",
       "      <td>1.333333</td>\n",
       "      <td>2.0</td>\n",
       "      <td>3.333333</td>\n",
       "    </tr>\n",
       "    <tr>\n",
       "      <th>102</th>\n",
       "      <td>3.00</td>\n",
       "      <td>2.25</td>\n",
       "      <td>4.0</td>\n",
       "      <td>1.000000</td>\n",
       "      <td>1.000000</td>\n",
       "      <td>1.0</td>\n",
       "      <td>5.000000</td>\n",
       "    </tr>\n",
       "    <tr>\n",
       "      <th>103</th>\n",
       "      <td>2.25</td>\n",
       "      <td>3.00</td>\n",
       "      <td>4.0</td>\n",
       "      <td>1.000000</td>\n",
       "      <td>2.666667</td>\n",
       "      <td>1.0</td>\n",
       "      <td>4.000000</td>\n",
       "    </tr>\n",
       "    <tr>\n",
       "      <th>104</th>\n",
       "      <td>3.75</td>\n",
       "      <td>3.25</td>\n",
       "      <td>4.0</td>\n",
       "      <td>1.000000</td>\n",
       "      <td>1.000000</td>\n",
       "      <td>1.0</td>\n",
       "      <td>5.000000</td>\n",
       "    </tr>\n",
       "  </tbody>\n",
       "</table>\n",
       "</div>"
      ],
      "text/plain": [
       "     Anstrengungserwartung  erleichterte_Bedingungen  \\\n",
       "100                   3.00                      3.25   \n",
       "101                   3.00                      2.50   \n",
       "102                   3.00                      2.25   \n",
       "103                   2.25                      3.00   \n",
       "104                   3.75                      3.25   \n",
       "\n",
       "     finanzielle_Allgemeinbildung  Leistungserwartung  sozialer_Einfluss  \\\n",
       "100                           4.0            2.666667           2.000000   \n",
       "101                           3.0            1.666667           1.333333   \n",
       "102                           4.0            1.000000           1.000000   \n",
       "103                           4.0            1.000000           2.666667   \n",
       "104                           4.0            1.000000           1.000000   \n",
       "\n",
       "     Verwendungsabsicht  wahrgenommenes_Risiko  \n",
       "100                 4.0               4.000000  \n",
       "101                 2.0               3.333333  \n",
       "102                 1.0               5.000000  \n",
       "103                 1.0               4.000000  \n",
       "104                 1.0               5.000000  "
      ]
     },
     "execution_count": 23,
     "metadata": {},
     "output_type": "execute_result"
    }
   ],
   "source": [
    "df.tail(5)"
   ]
  },
  {
   "cell_type": "markdown",
   "metadata": {},
   "source": [
    "## Vorbereitung der Features (unabhängigen Variablen) für die die Erstellung der Regressionsanalyse. Sie werden in die DataFrame X geschrieben. Ebenso wird das Target (abhängige Variable) \"Verwendungsabsicht\" in das DataFrame y kopiert."
   ]
  },
  {
   "cell_type": "code",
   "execution_count": 24,
   "metadata": {},
   "outputs": [
    {
     "data": {
      "text/html": [
       "<div>\n",
       "<style scoped>\n",
       "    .dataframe tbody tr th:only-of-type {\n",
       "        vertical-align: middle;\n",
       "    }\n",
       "\n",
       "    .dataframe tbody tr th {\n",
       "        vertical-align: top;\n",
       "    }\n",
       "\n",
       "    .dataframe thead th {\n",
       "        text-align: right;\n",
       "    }\n",
       "</style>\n",
       "<table border=\"1\" class=\"dataframe\">\n",
       "  <thead>\n",
       "    <tr style=\"text-align: right;\">\n",
       "      <th></th>\n",
       "      <th>Leistungserwartung</th>\n",
       "      <th>Anstrengungserwartung</th>\n",
       "      <th>sozialer_Einfluss</th>\n",
       "      <th>erleichterte_Bedingungen</th>\n",
       "      <th>wahrgenommenes_Risiko</th>\n",
       "      <th>finanzielle_Allgemeinbildung</th>\n",
       "    </tr>\n",
       "  </thead>\n",
       "  <tbody>\n",
       "    <tr>\n",
       "      <th>0</th>\n",
       "      <td>4.666667</td>\n",
       "      <td>4.50</td>\n",
       "      <td>4.666667</td>\n",
       "      <td>4.75</td>\n",
       "      <td>3.666667</td>\n",
       "      <td>3.5</td>\n",
       "    </tr>\n",
       "    <tr>\n",
       "      <th>1</th>\n",
       "      <td>1.000000</td>\n",
       "      <td>3.50</td>\n",
       "      <td>2.000000</td>\n",
       "      <td>2.75</td>\n",
       "      <td>4.333333</td>\n",
       "      <td>4.0</td>\n",
       "    </tr>\n",
       "    <tr>\n",
       "      <th>2</th>\n",
       "      <td>3.000000</td>\n",
       "      <td>2.50</td>\n",
       "      <td>3.000000</td>\n",
       "      <td>3.25</td>\n",
       "      <td>5.000000</td>\n",
       "      <td>5.0</td>\n",
       "    </tr>\n",
       "    <tr>\n",
       "      <th>3</th>\n",
       "      <td>2.000000</td>\n",
       "      <td>3.25</td>\n",
       "      <td>1.000000</td>\n",
       "      <td>3.75</td>\n",
       "      <td>5.000000</td>\n",
       "      <td>4.0</td>\n",
       "    </tr>\n",
       "    <tr>\n",
       "      <th>4</th>\n",
       "      <td>2.666667</td>\n",
       "      <td>2.75</td>\n",
       "      <td>2.000000</td>\n",
       "      <td>3.00</td>\n",
       "      <td>4.000000</td>\n",
       "      <td>2.0</td>\n",
       "    </tr>\n",
       "    <tr>\n",
       "      <th>...</th>\n",
       "      <td>...</td>\n",
       "      <td>...</td>\n",
       "      <td>...</td>\n",
       "      <td>...</td>\n",
       "      <td>...</td>\n",
       "      <td>...</td>\n",
       "    </tr>\n",
       "    <tr>\n",
       "      <th>100</th>\n",
       "      <td>2.666667</td>\n",
       "      <td>3.00</td>\n",
       "      <td>2.000000</td>\n",
       "      <td>3.25</td>\n",
       "      <td>4.000000</td>\n",
       "      <td>4.0</td>\n",
       "    </tr>\n",
       "    <tr>\n",
       "      <th>101</th>\n",
       "      <td>1.666667</td>\n",
       "      <td>3.00</td>\n",
       "      <td>1.333333</td>\n",
       "      <td>2.50</td>\n",
       "      <td>3.333333</td>\n",
       "      <td>3.0</td>\n",
       "    </tr>\n",
       "    <tr>\n",
       "      <th>102</th>\n",
       "      <td>1.000000</td>\n",
       "      <td>3.00</td>\n",
       "      <td>1.000000</td>\n",
       "      <td>2.25</td>\n",
       "      <td>5.000000</td>\n",
       "      <td>4.0</td>\n",
       "    </tr>\n",
       "    <tr>\n",
       "      <th>103</th>\n",
       "      <td>1.000000</td>\n",
       "      <td>2.25</td>\n",
       "      <td>2.666667</td>\n",
       "      <td>3.00</td>\n",
       "      <td>4.000000</td>\n",
       "      <td>4.0</td>\n",
       "    </tr>\n",
       "    <tr>\n",
       "      <th>104</th>\n",
       "      <td>1.000000</td>\n",
       "      <td>3.75</td>\n",
       "      <td>1.000000</td>\n",
       "      <td>3.25</td>\n",
       "      <td>5.000000</td>\n",
       "      <td>4.0</td>\n",
       "    </tr>\n",
       "  </tbody>\n",
       "</table>\n",
       "<p>105 rows × 6 columns</p>\n",
       "</div>"
      ],
      "text/plain": [
       "     Leistungserwartung  Anstrengungserwartung  sozialer_Einfluss  \\\n",
       "0              4.666667                   4.50           4.666667   \n",
       "1              1.000000                   3.50           2.000000   \n",
       "2              3.000000                   2.50           3.000000   \n",
       "3              2.000000                   3.25           1.000000   \n",
       "4              2.666667                   2.75           2.000000   \n",
       "..                  ...                    ...                ...   \n",
       "100            2.666667                   3.00           2.000000   \n",
       "101            1.666667                   3.00           1.333333   \n",
       "102            1.000000                   3.00           1.000000   \n",
       "103            1.000000                   2.25           2.666667   \n",
       "104            1.000000                   3.75           1.000000   \n",
       "\n",
       "     erleichterte_Bedingungen  wahrgenommenes_Risiko  \\\n",
       "0                        4.75               3.666667   \n",
       "1                        2.75               4.333333   \n",
       "2                        3.25               5.000000   \n",
       "3                        3.75               5.000000   \n",
       "4                        3.00               4.000000   \n",
       "..                        ...                    ...   \n",
       "100                      3.25               4.000000   \n",
       "101                      2.50               3.333333   \n",
       "102                      2.25               5.000000   \n",
       "103                      3.00               4.000000   \n",
       "104                      3.25               5.000000   \n",
       "\n",
       "     finanzielle_Allgemeinbildung  \n",
       "0                             3.5  \n",
       "1                             4.0  \n",
       "2                             5.0  \n",
       "3                             4.0  \n",
       "4                             2.0  \n",
       "..                            ...  \n",
       "100                           4.0  \n",
       "101                           3.0  \n",
       "102                           4.0  \n",
       "103                           4.0  \n",
       "104                           4.0  \n",
       "\n",
       "[105 rows x 6 columns]"
      ]
     },
     "execution_count": 24,
     "metadata": {},
     "output_type": "execute_result"
    }
   ],
   "source": [
    "X=df[['Leistungserwartung','Anstrengungserwartung', 'sozialer_Einfluss', 'erleichterte_Bedingungen', 'wahrgenommenes_Risiko', 'finanzielle_Allgemeinbildung']]\n",
    "y=df[['Verwendungsabsicht']]\n",
    "X"
   ]
  },
  {
   "cell_type": "code",
   "execution_count": 25,
   "metadata": {},
   "outputs": [
    {
     "data": {
      "text/html": [
       "<div>\n",
       "<style scoped>\n",
       "    .dataframe tbody tr th:only-of-type {\n",
       "        vertical-align: middle;\n",
       "    }\n",
       "\n",
       "    .dataframe tbody tr th {\n",
       "        vertical-align: top;\n",
       "    }\n",
       "\n",
       "    .dataframe thead th {\n",
       "        text-align: right;\n",
       "    }\n",
       "</style>\n",
       "<table border=\"1\" class=\"dataframe\">\n",
       "  <thead>\n",
       "    <tr style=\"text-align: right;\">\n",
       "      <th></th>\n",
       "      <th>Verwendungsabsicht</th>\n",
       "    </tr>\n",
       "  </thead>\n",
       "  <tbody>\n",
       "    <tr>\n",
       "      <th>0</th>\n",
       "      <td>5.0</td>\n",
       "    </tr>\n",
       "    <tr>\n",
       "      <th>1</th>\n",
       "      <td>2.0</td>\n",
       "    </tr>\n",
       "    <tr>\n",
       "      <th>2</th>\n",
       "      <td>3.0</td>\n",
       "    </tr>\n",
       "    <tr>\n",
       "      <th>3</th>\n",
       "      <td>2.0</td>\n",
       "    </tr>\n",
       "    <tr>\n",
       "      <th>4</th>\n",
       "      <td>2.0</td>\n",
       "    </tr>\n",
       "    <tr>\n",
       "      <th>...</th>\n",
       "      <td>...</td>\n",
       "    </tr>\n",
       "    <tr>\n",
       "      <th>100</th>\n",
       "      <td>4.0</td>\n",
       "    </tr>\n",
       "    <tr>\n",
       "      <th>101</th>\n",
       "      <td>2.0</td>\n",
       "    </tr>\n",
       "    <tr>\n",
       "      <th>102</th>\n",
       "      <td>1.0</td>\n",
       "    </tr>\n",
       "    <tr>\n",
       "      <th>103</th>\n",
       "      <td>1.0</td>\n",
       "    </tr>\n",
       "    <tr>\n",
       "      <th>104</th>\n",
       "      <td>1.0</td>\n",
       "    </tr>\n",
       "  </tbody>\n",
       "</table>\n",
       "<p>105 rows × 1 columns</p>\n",
       "</div>"
      ],
      "text/plain": [
       "     Verwendungsabsicht\n",
       "0                   5.0\n",
       "1                   2.0\n",
       "2                   3.0\n",
       "3                   2.0\n",
       "4                   2.0\n",
       "..                  ...\n",
       "100                 4.0\n",
       "101                 2.0\n",
       "102                 1.0\n",
       "103                 1.0\n",
       "104                 1.0\n",
       "\n",
       "[105 rows x 1 columns]"
      ]
     },
     "execution_count": 25,
     "metadata": {},
     "output_type": "execute_result"
    }
   ],
   "source": [
    "y"
   ]
  },
  {
   "cell_type": "markdown",
   "metadata": {},
   "source": [
    "## Einfache statistische Auswertung der unabhängigen Variablen."
   ]
  },
  {
   "cell_type": "code",
   "execution_count": 26,
   "metadata": {
    "scrolled": true
   },
   "outputs": [
    {
     "name": "stdout",
     "output_type": "stream",
     "text": [
      "                              count  mean   std   min   25%   50%   75%   max\n",
      "Leistungserwartung            105.0  2.22  1.06  1.00  1.00  2.00  3.00  5.00\n",
      "Anstrengungserwartung         105.0  2.82  0.90  1.00  2.25  2.75  3.50  5.00\n",
      "sozialer_Einfluss             105.0  2.13  0.95  1.00  1.00  2.00  2.67  4.67\n",
      "erleichterte_Bedingungen      105.0  3.07  0.78  1.25  2.50  3.00  3.50  5.00\n",
      "wahrgenommenes_Risiko         105.0  3.72  0.78  2.00  3.00  3.67  4.33  5.00\n",
      "finanzielle_Allgemeinbildung  105.0  3.34  0.96  1.00  2.50  3.50  4.00  5.00\n"
     ]
    }
   ],
   "source": [
    "print(X.describe().round(2).T)"
   ]
  },
  {
   "cell_type": "markdown",
   "metadata": {},
   "source": [
    "## Statistische Auswertung der Features mit Hilfe der statsmodels Bibliothek, basierend auf multipler linearer Regressionsanalyse."
   ]
  },
  {
   "cell_type": "code",
   "execution_count": 27,
   "metadata": {
    "scrolled": true
   },
   "outputs": [
    {
     "name": "stdout",
     "output_type": "stream",
     "text": [
      "                            OLS Regression Results                            \n",
      "==============================================================================\n",
      "Dep. Variable:     Verwendungsabsicht   R-squared:                       0.645\n",
      "Model:                            OLS   Adj. R-squared:                  0.623\n",
      "Method:                 Least Squares   F-statistic:                     29.67\n",
      "Date:                Thu, 26 Jan 2023   Prob (F-statistic):           5.01e-20\n",
      "Time:                        18:30:51   Log-Likelihood:                -105.70\n",
      "No. Observations:                 105   AIC:                             225.4\n",
      "Df Residuals:                      98   BIC:                             244.0\n",
      "Df Model:                           6                                         \n",
      "Covariance Type:            nonrobust                                         \n",
      "================================================================================================\n",
      "                                   coef    std err          t      P>|t|      [0.025      0.975]\n",
      "------------------------------------------------------------------------------------------------\n",
      "const                           -0.5892      0.495     -1.190      0.237      -1.572       0.394\n",
      "Leistungserwartung               0.6948      0.094      7.360      0.000       0.507       0.882\n",
      "Anstrengungserwartung            0.0136      0.094      0.145      0.885      -0.172       0.199\n",
      "sozialer_Einfluss                0.1124      0.098      1.142      0.256      -0.083       0.308\n",
      "erleichterte_Bedingungen         0.1579      0.111      1.419      0.159      -0.063       0.379\n",
      "wahrgenommenes_Risiko           -0.0246      0.094     -0.261      0.795      -0.212       0.163\n",
      "finanzielle_Allgemeinbildung     0.2453      0.083      2.940      0.004       0.080       0.411\n",
      "==============================================================================\n",
      "Omnibus:                        6.275   Durbin-Watson:                   2.092\n",
      "Prob(Omnibus):                  0.043   Jarque-Bera (JB):                9.015\n",
      "Skew:                           0.203   Prob(JB):                       0.0110\n",
      "Kurtosis:                       4.377   Cond. No.                         55.3\n",
      "==============================================================================\n",
      "\n",
      "Notes:\n",
      "[1] Standard Errors assume that the covariance matrix of the errors is correctly specified.\n"
     ]
    }
   ],
   "source": [
    "X2 = sm.add_constant(X)\n",
    "est = sm.OLS(y, X2)\n",
    "est2 = est.fit()\n",
    "\n",
    "print(est2.summary())"
   ]
  },
  {
   "cell_type": "markdown",
   "metadata": {},
   "source": [
    "## Berechnung der multiplen linearen Regressionsanalyse basierend auf dem \"Ordinary Least Square\" Verfahren."
   ]
  },
  {
   "cell_type": "code",
   "execution_count": 10,
   "metadata": {},
   "outputs": [
    {
     "name": "stdout",
     "output_type": "stream",
     "text": [
      "[[ 0.69478872  0.01362174  0.11235721  0.15788655 -0.02461829  0.24528069]] [-0.58919787] 0.6449244058820984\n"
     ]
    }
   ],
   "source": [
    "# Präzise Berechnung der Regression über das sckikit Learn Package, Dokumentation:\n",
    "# https://scikit-learn.org/stable/modules/linear_model.html\n",
    "\n",
    "regr = linear_model.LinearRegression()\n",
    "pred=regr.fit(X, y)\n",
    "\n",
    "# Ausgabe der Koeffizienten , der Konstante, und des R^2 Werts\n",
    "\n",
    "print(regr.coef_, regr.intercept_, regr.score(X, y))"
   ]
  },
  {
   "cell_type": "markdown",
   "metadata": {},
   "source": [
    "## Validierung der Regression mit Hilfe von Stichproben.\n",
    "Berechung der Zielwerte basierend auf den Koeffizienten für Zeile 0 mit tatsächlicher Verwendungsabsicht __5__ und Zeile 102 mit Verwendungsabsicht __1__ (siehe oben).\n",
    "\n"
   ]
  },
  {
   "cell_type": "code",
   "execution_count": 11,
   "metadata": {},
   "outputs": [],
   "source": [
    "predict0 = regr.predict([X.iloc[0].tolist()])\n",
    "predict102 = regr.predict([X.iloc[102].tolist()])"
   ]
  },
  {
   "cell_type": "code",
   "execution_count": 12,
   "metadata": {},
   "outputs": [
    {
     "name": "stdout",
     "output_type": "stream",
     "text": [
      "[[4.75695742]]\n"
     ]
    }
   ],
   "source": [
    "# Müsste aufrund der Umfragedaten Zeile 1 \"5\" sein:\n",
    "print(predict0)"
   ]
  },
  {
   "cell_type": "code",
   "execution_count": 13,
   "metadata": {},
   "outputs": [
    {
     "name": "stdout",
     "output_type": "stream",
     "text": [
      "[[1.47208933]]\n"
     ]
    }
   ],
   "source": [
    "# Müsste aufgrund der Umfragedaten Zeile 102 \"1\" sein:\n",
    "print(predict102)"
   ]
  },
  {
   "cell_type": "code",
   "execution_count": 28,
   "metadata": {},
   "outputs": [
    {
     "name": "stdout",
     "output_type": "stream",
     "text": [
      "[[-0.58919787]]\n"
     ]
    }
   ],
   "source": [
    "# Test auf Konstante\n",
    "predict1= regr.predict([[0,0,0,0,0,0]])\n",
    "print(predict1)"
   ]
  },
  {
   "cell_type": "markdown",
   "metadata": {},
   "source": [
    "## Diskussion der Auswertungen \n",
    "\n",
    "Basierend auf dem Koeffizienten von __-0.02__ für \"wahrgenommenes_Risiko\" (p bei 0,7) besteht eine keine sinnvolle Korrelation , dies ist auch auf dem Scatter Plot sichbar."
   ]
  },
  {
   "cell_type": "code",
   "execution_count": 16,
   "metadata": {},
   "outputs": [
    {
     "data": {
      "image/png": "[encoded data removed]",
      "text/plain": [
       "<Figure size 640x480 with 1 Axes>"
      ]
     },
     "metadata": {},
     "output_type": "display_data"
    }
   ],
   "source": [
    "df.plot.scatter(x='wahrgenommenes_Risiko', y='Verwendungsabsicht', title='schwache Korrelation');"
   ]
  },
  {
   "cell_type": "markdown",
   "metadata": {},
   "source": [
    " Basierend auf dem Koeffizienten __0.69478872__ für \"Leistungserwartung\" (hier ist p=0) ist eine signifikante Korrelation erkennbar, dies ist unten auf dem Scatter Plot sichbar."
   ]
  },
  {
   "cell_type": "code",
   "execution_count": 29,
   "metadata": {},
   "outputs": [
    {
     "data": {
      "image/png": "[encoded data removed]",
      "text/plain": [
       "<Figure size 640x480 with 1 Axes>"
      ]
     },
     "metadata": {},
     "output_type": "display_data"
    }
   ],
   "source": [
    "df.plot.scatter(x='Leistungserwartung', y='Verwendungsabsicht', title='signifikante Korrelation');"
   ]
  },
  {
   "cell_type": "markdown",
   "metadata": {},
   "source": [
    "## Analyse der Korrelation von unabhänigen Variablen (Features)."
   ]
  },
  {
   "cell_type": "code",
   "execution_count": 30,
   "metadata": {},
   "outputs": [
    {
     "data": {
      "image/png": "[encoded data removed]",
      "text/plain": [
       "<Figure size 640x480 with 2 Axes>"
      ]
     },
     "metadata": {},
     "output_type": "display_data"
    }
   ],
   "source": [
    "p_correlation=X.corr(method='pearson')\n",
    "\n",
    "\n",
    "sb.heatmap(p_correlation, \n",
    "            xticklabels=p_correlation.columns,\n",
    "            yticklabels=p_correlation.columns,\n",
    "            cmap='RdBu_r',\n",
    "            annot=True,\n",
    "            linewidth=0.5)\n",
    "\n",
    "plt.show()"
   ]
  }
 ],
 "metadata": {
  "kernelspec": {
   "display_name": "Python 3 (ipykernel)",
   "language": "python",
   "name": "python3"
  },
  "language_info": {
   "codemirror_mode": {
    "name": "ipython",
    "version": 3
   },
   "file_extension": ".py",
   "mimetype": "text/x-python",
   "name": "python",
   "nbconvert_exporter": "python",
   "pygments_lexer": "ipython3",
   "version": "3.11.1"
  }
 },
 "nbformat": 4,
 "nbformat_minor": 4
}
